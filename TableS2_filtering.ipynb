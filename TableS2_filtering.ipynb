{
 "cells": [
  {
   "cell_type": "code",
   "execution_count": 1,
   "metadata": {},
   "outputs": [],
   "source": [
    "import pandas as pd\n",
    "import numpy as np\n",
    "import scanpy as sc\n",
    "import anndata as ad\n",
    "import snapatac2 as snap\n",
    "import matplotlib.pyplot as plt\n",
    "import seaborn as sns\n",
    "from plotnine import *\n",
    "import pyranges as pr\n",
    "import os\n",
    "import warnings\n",
    "import requests\n",
    "from tqdm import tqdm\n",
    "from Bio.SeqIO.QualityIO import FastqGeneralIterator\n",
    "plt.rcdefaults()\n",
    "\n",
    "import sys\n",
    "sys.path.append('/scratch/eli')\n",
    "from perturbseq import *\n",
    "\n",
    "plt.rcParams['font.family'] = 'sans-serif'\n",
    "plt.rcParams['font.sans-serif'] = ['Helvetica']\n",
    "plt.rcParams['font.size'] = 12\n",
    "plt.rcParams['axes.unicode_minus'] = False\n",
    "plt.rcParams['pdf.fonttype'] = 42"
   ]
  },
  {
   "cell_type": "code",
   "execution_count": 2,
   "metadata": {},
   "outputs": [],
   "source": [
    "def calc_qc_metrics(sample_name, id_file, mode = 'gex'):\n",
    "\n",
    "    called_ids = pd.read_csv(id_file).reset_index().groupby(\"CB\").UMI.count().to_frame(\"n_guides\")\n",
    "    called_ids.index = called_ids.index.map(lambda cb: cb + \"-1\")\n",
    "\n",
    "    if mode == 'gex':\n",
    "\n",
    "        adata_files = [file for file in os.scandir(\"/data/norman/eli/T7/202404_SIRLOIN_multiome/\") if sample_name in file.name]\n",
    "        adata_path = adata_files[0].path + '/outs/filtered_feature_bc_matrix.h5'\n",
    "\n",
    "        adata = sc.read_10x_h5(adata_path)\n",
    "        adata.var_names_make_unique()\n",
    "        adata.var[\"mito\"] = adata.var_names.str.startswith(\"MT-\")\n",
    "        sc.pp.calculate_qc_metrics(adata, inplace=True, qc_vars = [\"mito\"])\n",
    "        \n",
    "        merge = adata.obs.join(called_ids, how = 'left')\n",
    "        merge[\"Assigned\"] = merge[\"n_guides\"].fillna(0).map(lambda n: n > 0)\n",
    "        merge.drop_duplicates(inplace = True)\n",
    "\n",
    "    elif mode == 'atac':\n",
    "\n",
    "        adata_files = [file for file in os.scandir(\"/data/norman/eli/T7/202404_SIRLOIN_multiome/figs/intermediate_files\") if sample_name in file.name and 'preprocessed_atac' in file.name]\n",
    "        adata = snap.read(adata_files[0].path, backed = None)\n",
    "        merge = adata.obs.join(called_ids, how = 'left')\n",
    "        merge[\"Assigned\"] = merge[\"n_guides\"].fillna(0).map(lambda n: n > 0)\n",
    "        merge['n_fragment'] = merge['n_fragment'].astype(int)\n",
    "        merge.drop_duplicates(inplace = True)\n",
    "        adata.obs = merge\n",
    "\n",
    "    return merge"
   ]
  },
  {
   "cell_type": "code",
   "execution_count": 3,
   "metadata": {},
   "outputs": [],
   "source": [
    "def count_cells_by_filter(gexqc, atacqc):\n",
    "    print(f\"Total cells: {len(gexqc)}\")\n",
    "    print(f\"Assigned: {len(gexqc.query('n_guides > 0'))}\")\n",
    "    print(f\"Guide singlets: {len(gexqc.query('n_guides == 1'))}\")\n",
    "    print(f\">6 log1p UMI: {len(gexqc.query('n_guides == 1').query('log1p_total_counts > 6'))}\")\n",
    "    print(f\">6 log1p unique genes: {len(gexqc.query('n_guides == 1').query('log1p_total_counts > 6').query('log1p_n_genes_by_counts > 6'))}\")\n",
    "\n",
    "    qc = gexqc.query('n_guides == 1').query('log1p_total_counts > 6').query('log1p_n_genes_by_counts > 6').join(atacqc['n_fragment'], how = 'left')\n",
    "    print(f\">1000 ATAC fragments: {len(qc.query('n_fragment > 1000'))}\")\n",
    "    return qc.query('n_fragment > 1000')\n",
    "    \n",
    "    # print(f\">1000 ATAC fragments: {len(atacqc.query('n_fragment > 1000'))}\")\n",
    "    # print(f\"Assigned: {len(atacqc.query('Assigned'))}\")"
   ]
  },
  {
   "cell_type": "code",
   "execution_count": 11,
   "metadata": {},
   "outputs": [
    {
     "name": "stderr",
     "output_type": "stream",
     "text": [
      "/home/metznere/.conda/envs/scenv/lib/python3.11/site-packages/anndata/_core/anndata.py:1820: UserWarning: Variable names are not unique. To make them unique, call `.var_names_make_unique`.\n",
      "/home/metznere/.conda/envs/scenv/lib/python3.11/site-packages/anndata/_core/anndata.py:1820: UserWarning: Variable names are not unique. To make them unique, call `.var_names_make_unique`.\n"
     ]
    },
    {
     "name": "stdout",
     "output_type": "stream",
     "text": [
      "Total cells: 9318\n",
      "Assigned: 6338\n",
      "Guide singlets: 4969\n",
      ">6 log1p UMI: 4968\n",
      ">6 log1p unique genes: 4965\n",
      ">1000 ATAC fragments: 4724\n"
     ]
    }
   ],
   "source": [
    "gexqc_040 = calc_qc_metrics(\"Lane1_040\", \"/data/norman/eli/T7/202404_SIRLOIN_multiome/guide_calling/T7_outs/Lane1_040_called_ids.csv\", mode = 'gex')\n",
    "atacqc_040 = calc_qc_metrics(\"Lane1_040\", \"/data/norman/eli/T7/202404_SIRLOIN_multiome/guide_calling/T7_outs/Lane1_040_called_ids.csv\", mode = 'atac')\n",
    "count_cells_by_filter(gexqc_040, atacqc_040)"
   ]
  },
  {
   "cell_type": "code",
   "execution_count": 12,
   "metadata": {},
   "outputs": [
    {
     "name": "stderr",
     "output_type": "stream",
     "text": [
      "/home/metznere/.conda/envs/scenv/lib/python3.11/site-packages/anndata/_core/anndata.py:1820: UserWarning: Variable names are not unique. To make them unique, call `.var_names_make_unique`.\n",
      "/home/metznere/.conda/envs/scenv/lib/python3.11/site-packages/anndata/_core/anndata.py:1820: UserWarning: Variable names are not unique. To make them unique, call `.var_names_make_unique`.\n"
     ]
    },
    {
     "name": "stdout",
     "output_type": "stream",
     "text": [
      "Total cells: 9318\n",
      "Assigned: 3151\n",
      "Guide singlets: 2903\n",
      ">6 log1p UMI: 2903\n",
      ">6 log1p unique genes: 2903\n",
      ">1000 ATAC fragments: 2779\n"
     ]
    }
   ],
   "source": [
    "gexqc_040 = calc_qc_metrics(\"Lane1_040\", \"/data/norman/eli/T7/202404_SIRLOIN_multiome/guide_calling/CROPseq_downsampled/Lane1_040_called_ids.csv\", mode = 'gex')\n",
    "atacqc_040 = calc_qc_metrics(\"Lane1_040\", \"/data/norman/eli/T7/202404_SIRLOIN_multiome/guide_calling/CROPseq_downsampled/Lane1_040_called_ids.csv\", mode = 'atac')\n",
    "count_cells_by_filter(gexqc_040, atacqc_040)"
   ]
  },
  {
   "cell_type": "code",
   "execution_count": 4,
   "metadata": {},
   "outputs": [
    {
     "name": "stderr",
     "output_type": "stream",
     "text": [
      "/home/metznere/.conda/envs/scenv/lib/python3.11/site-packages/anndata/_core/anndata.py:1820: UserWarning: Variable names are not unique. To make them unique, call `.var_names_make_unique`.\n",
      "/home/metznere/.conda/envs/scenv/lib/python3.11/site-packages/anndata/_core/anndata.py:1820: UserWarning: Variable names are not unique. To make them unique, call `.var_names_make_unique`.\n"
     ]
    },
    {
     "name": "stdout",
     "output_type": "stream",
     "text": [
      "Total cells: 9503\n",
      "Assigned: 4863\n",
      "Guide singlets: 3997\n",
      ">6 log1p UMI: 3996\n",
      ">6 log1p unique genes: 3993\n",
      ">1000 ATAC fragments: 3770\n"
     ]
    }
   ],
   "source": [
    "gexqc_047 = calc_qc_metrics(\"Lane2_047\", \"/data/norman/eli/T7/202404_SIRLOIN_multiome/guide_calling/T7_downsampled/Lane2_047_called_ids.csv\", mode = 'gex')\n",
    "atacqc_047 = calc_qc_metrics(\"Lane2_047\", \"/data/norman/eli/T7/202404_SIRLOIN_multiome/guide_calling/T7_downsampled/Lane2_047_called_ids.csv\", mode = 'atac')"
   ]
  },
  {
   "cell_type": "code",
   "execution_count": 14,
   "metadata": {},
   "outputs": [
    {
     "name": "stderr",
     "output_type": "stream",
     "text": [
      "/home/metznere/.conda/envs/scenv/lib/python3.11/site-packages/anndata/_core/anndata.py:1820: UserWarning: Variable names are not unique. To make them unique, call `.var_names_make_unique`.\n",
      "/home/metznere/.conda/envs/scenv/lib/python3.11/site-packages/anndata/_core/anndata.py:1820: UserWarning: Variable names are not unique. To make them unique, call `.var_names_make_unique`.\n"
     ]
    },
    {
     "name": "stdout",
     "output_type": "stream",
     "text": [
      "Total cells: 9503\n",
      "Assigned: 3027\n",
      "Guide singlets: 2737\n",
      ">6 log1p UMI: 2737\n",
      ">6 log1p unique genes: 2735\n",
      ">1000 ATAC fragments: 2598\n"
     ]
    }
   ],
   "source": [
    "gexqc_047 = calc_qc_metrics(\"Lane2_047\", \"/data/norman/eli/T7/202404_SIRLOIN_multiome/guide_calling/CROPseq_downsampled/Lane2_047_called_ids.csv\", mode = 'gex')\n",
    "atacqc_047 = calc_qc_metrics(\"Lane2_047\", \"/data/norman/eli/T7/202404_SIRLOIN_multiome/guide_calling/CROPseq_downsampled/Lane2_047_called_ids.csv\", mode = 'atac')\n",
    "count_cells_by_filter(gexqc_047, atacqc_047)"
   ]
  }
 ],
 "metadata": {
  "kernelspec": {
   "display_name": "scenv",
   "language": "python",
   "name": "python3"
  },
  "language_info": {
   "codemirror_mode": {
    "name": "ipython",
    "version": 3
   },
   "file_extension": ".py",
   "mimetype": "text/x-python",
   "name": "python",
   "nbconvert_exporter": "python",
   "pygments_lexer": "ipython3",
   "version": "3.11.5"
  }
 },
 "nbformat": 4,
 "nbformat_minor": 2
}
